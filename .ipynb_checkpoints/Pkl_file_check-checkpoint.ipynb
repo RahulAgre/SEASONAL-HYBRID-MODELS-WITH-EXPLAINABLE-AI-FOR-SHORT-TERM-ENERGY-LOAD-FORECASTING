{
 "cells": [
  {
   "cell_type": "code",
   "execution_count": 4,
   "id": "7debb3ed-e26b-4041-973a-08f965e32d1b",
   "metadata": {},
   "outputs": [
    {
     "name": "stdout",
     "output_type": "stream",
     "text": [
      "--- Starting Validation of: F:\\LJMU THESIS\\Topic 2 Papers and Supporting Documents\\File_Implementation\\stl_results.pkl ---\n",
      "❌ Check 1 (Object Type): Loaded object is of type <class 'statsmodels.tsa.seasonal.DecomposeResult'>, not STLResults.\n",
      "✅ Check 2 (Length): Residual series length 201604 matches expected 201604.\n",
      "\n",
      "Sample Data Check:\n",
      "First 5 Residual Values:\n",
      "utc_timestamp\n",
      "2014-12-31 23:00:00+00:00    -330.109100\n",
      "2014-12-31 23:15:00+00:00     188.415507\n",
      "2014-12-31 23:30:00+00:00     667.450734\n",
      "2014-12-31 23:45:00+00:00    1062.935217\n",
      "2015-01-01 00:00:00+00:00    1548.673746\n",
      "Name: resid, dtype: float64\n",
      "--------------------\n",
      "Last 5 Residual Values:\n",
      "utc_timestamp\n",
      "2020-09-30 22:45:00+00:00   -1166.630351\n",
      "2020-09-30 23:00:00+00:00    -872.994550\n",
      "2020-09-30 23:15:00+00:00    -777.153705\n",
      "2020-09-30 23:30:00+00:00    -845.949287\n",
      "2020-09-30 23:45:00+00:00    -523.369513\n",
      "Name: resid, dtype: float64\n",
      "\n",
      "Validation Complete. The PKL file appears correct and ready for use.\n"
     ]
    }
   ],
   "source": [
    "import pandas as pd\n",
    "import pickle\n",
    "import os\n",
    "import sys\n",
    "\n",
    "# --- Configuration ---\n",
    "# Use the exact path you saved the file to:\n",
    "STL_CACHE_FILE = r'F:\\LJMU THESIS\\Topic 2 Papers and Supporting Documents\\File_Implementation\\stl_results.pkl'\n",
    "print(f\"--- Starting Validation of: {STL_CACHE_FILE} ---\")\n",
    "\n",
    "# --- STEP 1: Load the file ---\n",
    "try:\n",
    "    with open(STL_CACHE_FILE, 'rb') as f:\n",
    "        loaded_res = pickle.load(f)\n",
    "except Exception as e:\n",
    "    # If loading fails, this will print the CRITICAL ERROR message.\n",
    "    print(f\"CRITICAL ERROR: Failed to load the PKL file. Error: {e}\")\n",
    "    # Removed sys.exit()\n",
    "\n",
    "# --- STEP 2: Verify Object Type (Robust Check) ---\n",
    "\n",
    "# We check the object's class name as a string, avoiding the tricky import\n",
    "if 'STLResults' in str(type(loaded_res)):\n",
    "    print(\"✅ Check 1 (Object Type): File successfully loaded an object that identifies as STLResults.\")\n",
    "else:\n",
    "    # If object type is wrong, this will print the FAILED message.\n",
    "    print(f\"❌ Check 1 (Object Type): Loaded object is of type {type(loaded_res)}, not STLResults.\")\n",
    "    # Removed sys.exit()\n",
    "\n",
    "# --- STEP 3: Verify Data Integrity (Residual Series) ---\n",
    "if 'residual_series' not in locals(): # Only proceed if the object loaded successfully\n",
    "    if hasattr(loaded_res, 'resid'):\n",
    "        residual_series = loaded_res.resid\n",
    "    else:\n",
    "        print(\"CRITICAL ERROR: Loaded object does not contain a 'resid' attribute.\")\n",
    "        # Removed sys.exit()\n",
    "\n",
    "# 1. Check Length: Must match the length of your original data (201604)\n",
    "expected_length = 201604 \n",
    "\n",
    "if len(residual_series) == expected_length:\n",
    "    print(f\"✅ Check 2 (Length): Residual series length {len(residual_series)} matches expected {expected_length}.\")\n",
    "else:\n",
    "    print(f\"❌ Check 2 (Length): Residual series length {len(residual_series)} DOES NOT match expected {expected_length}.\")\n",
    "    \n",
    "# 2. Check the first and last calculated values\n",
    "print(f\"\\nSample Data Check:\")\n",
    "print(f\"First 5 Residual Values:\\n{residual_series.head()}\")\n",
    "print(\"-\" * 20)\n",
    "print(f\"Last 5 Residual Values:\\n{residual_series.tail()}\")\n",
    "\n",
    "# --- Conclusion ---\n",
    "print(\"\\nValidation Complete. The PKL file appears correct and ready for use.\")"
   ]
  },
  {
   "cell_type": "code",
   "execution_count": null,
   "id": "d186ff92-047b-4f03-a561-2b2da3382afd",
   "metadata": {},
   "outputs": [],
   "source": []
  }
 ],
 "metadata": {
  "kernelspec": {
   "display_name": "Python [conda env:base] *",
   "language": "python",
   "name": "conda-base-py"
  },
  "language_info": {
   "codemirror_mode": {
    "name": "ipython",
    "version": 3
   },
   "file_extension": ".py",
   "mimetype": "text/x-python",
   "name": "python",
   "nbconvert_exporter": "python",
   "pygments_lexer": "ipython3",
   "version": "3.9.23"
  }
 },
 "nbformat": 4,
 "nbformat_minor": 5
}
